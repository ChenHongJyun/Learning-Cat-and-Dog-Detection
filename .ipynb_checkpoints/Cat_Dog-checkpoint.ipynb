{
 "cells": [
  {
   "cell_type": "code",
   "execution_count": 4,
   "id": "f6ae1d82",
   "metadata": {},
   "outputs": [
    {
     "ename": "ImportError",
     "evalue": "cannot import name 'image' from 'tensorflow.keras.utils' (C:\\Users\\user\\anaconda3\\envs\\tensorflow1\\lib\\site-packages\\keras\\api\\_v2\\keras\\utils\\__init__.py)",
     "output_type": "error",
     "traceback": [
      "\u001b[1;31m---------------------------------------------------------------------------\u001b[0m",
      "\u001b[1;31mImportError\u001b[0m                               Traceback (most recent call last)",
      "\u001b[1;32m~\\AppData\\Local\\Temp\\ipykernel_24800\\68167222.py\u001b[0m in \u001b[0;36m<module>\u001b[1;34m\u001b[0m\n\u001b[0;32m      2\u001b[0m \u001b[1;32mimport\u001b[0m \u001b[0mglob\u001b[0m\u001b[1;33m\u001b[0m\u001b[1;33m\u001b[0m\u001b[0m\n\u001b[0;32m      3\u001b[0m \u001b[1;32mimport\u001b[0m \u001b[0mnumpy\u001b[0m \u001b[1;32mas\u001b[0m \u001b[0mnp\u001b[0m\u001b[1;33m\u001b[0m\u001b[1;33m\u001b[0m\u001b[0m\n\u001b[1;32m----> 4\u001b[1;33m \u001b[1;32mfrom\u001b[0m \u001b[0mtensorflow\u001b[0m\u001b[1;33m.\u001b[0m\u001b[0mkeras\u001b[0m\u001b[1;33m.\u001b[0m\u001b[0mutils\u001b[0m \u001b[1;32mimport\u001b[0m \u001b[0mimg_to_array\u001b[0m\u001b[1;33m,\u001b[0m \u001b[0mimage\u001b[0m\u001b[1;33m\u001b[0m\u001b[1;33m\u001b[0m\u001b[0m\n\u001b[0m\u001b[0;32m      5\u001b[0m \u001b[1;32mfrom\u001b[0m \u001b[0mPIL\u001b[0m \u001b[1;32mimport\u001b[0m \u001b[0mImage\u001b[0m\u001b[1;33m\u001b[0m\u001b[1;33m\u001b[0m\u001b[0m\n\u001b[0;32m      6\u001b[0m \u001b[1;33m\u001b[0m\u001b[0m\n",
      "\u001b[1;31mImportError\u001b[0m: cannot import name 'image' from 'tensorflow.keras.utils' (C:\\Users\\user\\anaconda3\\envs\\tensorflow1\\lib\\site-packages\\keras\\api\\_v2\\keras\\utils\\__init__.py)"
     ]
    }
   ],
   "source": [
    "import os\n",
    "import glob\n",
    "import numpy as np\n",
    "from tensorflow.keras.utils import img_to_array\n",
    "from PIL import Image\n",
    "\n",
    "dict_labels = {\"Cat\":0, \"Dog\":1}   #labels的對應\n",
    "size = (64,64) #由於原始資料影像大小不一，因此制定一個統一值\n",
    "nbofdata=500   #從各個資料夾中抓取特定數量的檔案\n",
    "\n",
    "for folders in glob.glob(\"PetImages/*\"):\n",
    "    print(folders)\n",
    "    images=[]\n",
    "    labels_hot=[]\n",
    "    labels=[]\n",
    "    nbofdata_i=1\n",
    "# first level\n",
    "for filename in os.listdir(folders):\n",
    "    if nbofdata_i <= nbofdata:\n",
    "        label = os.path.basename(folders)\n",
    "        className = np.asarray(label)\n",
    "        img=image.load_img(os.path.join(folders,filename))\n",
    "        img=img.resize(size,Image.BILINEAR)\n",
    "        if img is not None:\n",
    "            if label is not None:\n",
    "                labels.append(className)\n",
    "                labels_hot.append(dict_labels[label])\n",
    "            x=img_to_array(img)\n",
    "            images.append(x)\n",
    "        nbofdata_i+=1\n",
    "        \n",
    "images=np.array(images)    \n",
    "labels_hot=np.array(labels_hot)\n",
    "print(\"images.shape={}, labels_hot.shape=={}\".format(images.shape, labels_hot.shape))    \n",
    "imagesavepath='Cat_Dog_Dataset/'\n",
    "if not os.path.exists(imagesavepath):\n",
    "    os.makedirs(imagesavepath)\n",
    "    np.save(imagesavepath+'{}_images.npy'.format(label),images)    \n",
    "    np.save(imagesavepath+'{}_label.npy'.format(label),labels)    \n",
    "    np.save(imagesavepath+'{}_labels_hot.npy'.format(label),labels_hot)\n",
    "    print('{} files has been saved.'.format(label))        \n",
    "\n"
   ]
  },
  {
   "cell_type": "code",
   "execution_count": null,
   "id": "b69ea6a9",
   "metadata": {},
   "outputs": [],
   "source": []
  }
 ],
 "metadata": {
  "kernelspec": {
   "display_name": "Python 3 (ipykernel)",
   "language": "python",
   "name": "python3"
  },
  "language_info": {
   "codemirror_mode": {
    "name": "ipython",
    "version": 3
   },
   "file_extension": ".py",
   "mimetype": "text/x-python",
   "name": "python",
   "nbconvert_exporter": "python",
   "pygments_lexer": "ipython3",
   "version": "3.7.13"
  }
 },
 "nbformat": 4,
 "nbformat_minor": 5
}
